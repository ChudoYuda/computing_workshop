{
  "nbformat": 4,
  "nbformat_minor": 0,
  "metadata": {
    "colab": {
      "provenance": [],
      "authorship_tag": "ABX9TyOHqfSiPgRWkoWgHsCjTamR"
    },
    "kernelspec": {
      "name": "python3",
      "display_name": "Python 3"
    },
    "language_info": {
      "name": "python"
    }
  },
  "cells": [
    {
      "cell_type": "code",
      "execution_count": 1,
      "metadata": {
        "id": "qNbLRvmJyevD"
      },
      "outputs": [],
      "source": [
        "from sklearn.datasets import fetch_openml\n",
        "from sklearn.model_selection import train_test_split\n",
        "\n",
        "import numpy as np\n",
        "import matplotlib.pyplot as plt\n",
        "\n",
        "import warnings\n",
        "warnings.filterwarnings(\"ignore\")"
      ]
    },
    {
      "cell_type": "code",
      "source": [
        "# Загрузим датасет\n",
        "mnist = fetch_openml('mnist_784', as_frame=False, cache=True)\n",
        "\n",
        "# подготовим данные в нужном формате\n",
        "X = mnist.data.astype('float32')\n",
        "y = mnist.target.astype('int64')\n",
        "\n",
        "# Оставим в датасете только классы 0 и 1\n",
        "y_bin = y[(y == 0) | (y == 1)]\n",
        "X_bin = X[(y == 0) | (y == 1)]\n",
        "\n",
        "\n",
        "# Для удобства, обозначим лейблы классов за -1 (обозначает цифру 0)\n",
        "# и 1 (обозначает цифру 1)\n",
        "y_bin[y_bin == 0] = -1\n",
        "\n",
        "# Посмотрим на долю единиц в датасете\n",
        "positive_class_size = len(y_bin[y_bin == 1])\n",
        "positive_class_rate = positive_class_size / len(y_bin)\n",
        "\n",
        "print(\"Доля единиц в датасете: \", positive_class_rate)"
      ],
      "metadata": {
        "colab": {
          "base_uri": "https://localhost:8080/"
        },
        "id": "oKHWttTPyk_g",
        "outputId": "d75f98e6-5772-43c4-b299-bc0400b64064"
      },
      "execution_count": 2,
      "outputs": [
        {
          "output_type": "stream",
          "name": "stdout",
          "text": [
            "Доля единиц в датасете:  0.5329499323410013\n"
          ]
        }
      ]
    },
    {
      "cell_type": "code",
      "source": [
        "print(len(X_bin))"
      ],
      "metadata": {
        "colab": {
          "base_uri": "https://localhost:8080/"
        },
        "id": "k13jom3dypIE",
        "outputId": "42fe0492-7261-4418-c78d-196a9c2427bf"
      },
      "execution_count": 3,
      "outputs": [
        {
          "output_type": "stream",
          "name": "stdout",
          "text": [
            "14780\n"
          ]
        }
      ]
    },
    {
      "cell_type": "code",
      "source": [
        "# Посмотрим на первые 5 примеров\n",
        "\n",
        "n = 5\n",
        "\n",
        "fig, axs = plt.subplots(1, n, figsize=(8, 4))\n",
        "\n",
        "for ax, image, label in zip(axs, X_bin[:n], y_bin[:n]):\n",
        "\n",
        "  # Переводим картинку из вектора длины 784 в матрицу 28 x 28\n",
        "  image_reshaped = image.reshape(28, 28)\n",
        "\n",
        "  ax.imshow(image_reshaped)\n",
        "  ax.set_title(label)\n",
        "  ax.axis(\"off\")"
      ],
      "metadata": {
        "colab": {
          "base_uri": "https://localhost:8080/",
          "height": 166
        },
        "id": "WnpYQ42Nyr_L",
        "outputId": "984d2d6c-9087-4ca7-8ff8-06f57bd093dd"
      },
      "execution_count": 4,
      "outputs": [
        {
          "output_type": "display_data",
          "data": {
            "text/plain": [
              "<Figure size 800x400 with 5 Axes>"
            ],
            "image/png": "[encoded data removed]"
          },
          "metadata": {}
        }
      ]
    },
    {
      "cell_type": "markdown",
      "source": [
        "Разделим множество пар данных на обучаемые и тестовые"
      ],
      "metadata": {
        "id": "hQBuW746BNRV"
      }
    },
    {
      "cell_type": "code",
      "source": [
        "X_train, X_test, y_train, y_test = train_test_split(X_bin, y_bin, test_size=0.2)\n",
        "X_train.shape, X_test.shape"
      ],
      "metadata": {
        "colab": {
          "base_uri": "https://localhost:8080/"
        },
        "id": "axkx8tFQyvhq",
        "outputId": "fa9ddc4a-e258-4a2c-a988-7530e0947a96"
      },
      "execution_count": 112,
      "outputs": [
        {
          "output_type": "execute_result",
          "data": {
            "text/plain": [
              "((11824, 784), (2956, 784))"
            ]
          },
          "metadata": {},
          "execution_count": 112
        }
      ]
    },
    {
      "cell_type": "markdown",
      "source": [
        "**Нормализуем датасет** так, чтобы значения каждого пикселя были в диапазоне [0, 1].\n",
        "\n",
        "Почему бы просто не поделить на 255 весь обучающий датасет, ведь у нас 8-битные изображения?"
      ],
      "metadata": {
        "id": "00xaLAZ7y_9m"
      }
    },
    {
      "cell_type": "code",
      "source": [
        "from sklearn.preprocessing import MinMaxScaler\n",
        "\n",
        "tran = MinMaxScaler()\n",
        "tran.fit(X_train)\n",
        "# Выход numpy матрица, положим ее в новую переменную\n",
        "X_train_normal = tran.transform(X_train)\n",
        "\n",
        "#X_train = X_train/255"
      ],
      "metadata": {
        "id": "9_JSE2zDy_S5"
      },
      "execution_count": 6,
      "outputs": []
    },
    {
      "cell_type": "markdown",
      "source": [
        "Обучим модель"
      ],
      "metadata": {
        "id": "FeDRb0pVzh51"
      }
    },
    {
      "cell_type": "code",
      "source": [
        "from sklearn.linear_model import LogisticRegression\n",
        "from sklearn.metrics import accuracy_score\n",
        "\n",
        "logreg = LogisticRegression()\n",
        "logreg.fit(X_train_normal, y_train)"
      ],
      "metadata": {
        "colab": {
          "base_uri": "https://localhost:8080/",
          "height": 74
        },
        "id": "86pqus4azfIr",
        "outputId": "cd698ac5-5aa2-4c11-b76b-80c9d3f224ad"
      },
      "execution_count": 7,
      "outputs": [
        {
          "output_type": "execute_result",
          "data": {
            "text/plain": [
              "LogisticRegression()"
            ],
            "text/html": [
              "<style>#sk-container-id-1 {color: black;background-color: white;}#sk-container-id-1 pre{padding: 0;}#sk-container-id-1 div.sk-toggleable {background-color: white;}#sk-container-id-1 label.sk-toggleable__label {cursor: pointer;display: block;width: 100%;margin-bottom: 0;padding: 0.3em;box-sizing: border-box;text-align: center;}#sk-container-id-1 label.sk-toggleable__label-arrow:before {content: \"▸\";float: left;margin-right: 0.25em;color: #696969;}#sk-container-id-1 label.sk-toggleable__label-arrow:hover:before {color: black;}#sk-container-id-1 div.sk-estimator:hover label.sk-toggleable__label-arrow:before {color: black;}#sk-container-id-1 div.sk-toggleable__content {max-height: 0;max-width: 0;overflow: hidden;text-align: left;background-color: #f0f8ff;}#sk-container-id-1 div.sk-toggleable__content pre {margin: 0.2em;color: black;border-radius: 0.25em;background-color: #f0f8ff;}#sk-container-id-1 input.sk-toggleable__control:checked~div.sk-toggleable__content {max-height: 200px;max-width: 100%;overflow: auto;}#sk-container-id-1 input.sk-toggleable__control:checked~label.sk-toggleable__label-arrow:before {content: \"▾\";}#sk-container-id-1 div.sk-estimator input.sk-toggleable__control:checked~label.sk-toggleable__label {background-color: #d4ebff;}#sk-container-id-1 div.sk-label input.sk-toggleable__control:checked~label.sk-toggleable__label {background-color: #d4ebff;}#sk-container-id-1 input.sk-hidden--visually {border: 0;clip: rect(1px 1px 1px 1px);clip: rect(1px, 1px, 1px, 1px);height: 1px;margin: -1px;overflow: hidden;padding: 0;position: absolute;width: 1px;}#sk-container-id-1 div.sk-estimator {font-family: monospace;background-color: #f0f8ff;border: 1px dotted black;border-radius: 0.25em;box-sizing: border-box;margin-bottom: 0.5em;}#sk-container-id-1 div.sk-estimator:hover {background-color: #d4ebff;}#sk-container-id-1 div.sk-parallel-item::after {content: \"\";width: 100%;border-bottom: 1px solid gray;flex-grow: 1;}#sk-container-id-1 div.sk-label:hover label.sk-toggleable__label {background-color: #d4ebff;}#sk-container-id-1 div.sk-serial::before {content: \"\";position: absolute;border-left: 1px solid gray;box-sizing: border-box;top: 0;bottom: 0;left: 50%;z-index: 0;}#sk-container-id-1 div.sk-serial {display: flex;flex-direction: column;align-items: center;background-color: white;padding-right: 0.2em;padding-left: 0.2em;position: relative;}#sk-container-id-1 div.sk-item {position: relative;z-index: 1;}#sk-container-id-1 div.sk-parallel {display: flex;align-items: stretch;justify-content: center;background-color: white;position: relative;}#sk-container-id-1 div.sk-item::before, #sk-container-id-1 div.sk-parallel-item::before {content: \"\";position: absolute;border-left: 1px solid gray;box-sizing: border-box;top: 0;bottom: 0;left: 50%;z-index: -1;}#sk-container-id-1 div.sk-parallel-item {display: flex;flex-direction: column;z-index: 1;position: relative;background-color: white;}#sk-container-id-1 div.sk-parallel-item:first-child::after {align-self: flex-end;width: 50%;}#sk-container-id-1 div.sk-parallel-item:last-child::after {align-self: flex-start;width: 50%;}#sk-container-id-1 div.sk-parallel-item:only-child::after {width: 0;}#sk-container-id-1 div.sk-dashed-wrapped {border: 1px dashed gray;margin: 0 0.4em 0.5em 0.4em;box-sizing: border-box;padding-bottom: 0.4em;background-color: white;}#sk-container-id-1 div.sk-label label {font-family: monospace;font-weight: bold;display: inline-block;line-height: 1.2em;}#sk-container-id-1 div.sk-label-container {text-align: center;}#sk-container-id-1 div.sk-container {/* jupyter's `normalize.less` sets `[hidden] { display: none; }` but bootstrap.min.css set `[hidden] { display: none !important; }` so we also need the `!important` here to be able to override the default hidden behavior on the sphinx rendered scikit-learn.org. See: https://github.com/scikit-learn/scikit-learn/issues/21755 */display: inline-block !important;position: relative;}#sk-container-id-1 div.sk-text-repr-fallback {display: none;}</style><div id=\"sk-container-id-1\" class=\"sk-top-container\"><div class=\"sk-text-repr-fallback\"><pre>LogisticRegression()</pre><b>In a Jupyter environment, please rerun this cell to show the HTML representation or trust the notebook. <br />On GitHub, the HTML representation is unable to render, please try loading this page with nbviewer.org.</b></div><div class=\"sk-container\" hidden><div class=\"sk-item\"><div class=\"sk-estimator sk-toggleable\"><input class=\"sk-toggleable__control sk-hidden--visually\" id=\"sk-estimator-id-1\" type=\"checkbox\" checked><label for=\"sk-estimator-id-1\" class=\"sk-toggleable__label sk-toggleable__label-arrow\">LogisticRegression</label><div class=\"sk-toggleable__content\"><pre>LogisticRegression()</pre></div></div></div></div></div>"
            ]
          },
          "metadata": {},
          "execution_count": 7
        }
      ]
    },
    {
      "cell_type": "markdown",
      "source": [
        "Посчитаем точность модели на тестовой выборке"
      ],
      "metadata": {
        "id": "7s9EYYWGCAWb"
      }
    },
    {
      "cell_type": "code",
      "source": [
        "y_pred = logreg.predict(X_test)\n",
        "print(f'Accuracy of logistic regression classifier on test set: {accuracy_score(y_pred, y_test)}')"
      ],
      "metadata": {
        "colab": {
          "base_uri": "https://localhost:8080/"
        },
        "id": "w91xe3WLzny7",
        "outputId": "139be843-c17c-4d9d-a4b1-50cd40bb4a32"
      },
      "execution_count": 8,
      "outputs": [
        {
          "output_type": "stream",
          "name": "stdout",
          "text": [
            "Accuracy of logistic regression classifier on test set: 0.9969553450608931\n"
          ]
        }
      ]
    },
    {
      "cell_type": "markdown",
      "source": [
        "Атакуем незащищенную модель\n",
        "\n",
        "Вычислимм значения оптимальной атаки $\\delta^\\star$ для каждого класса (-1 и 1)\n",
        "\n",
        "\\begin{equation}\n",
        "\\delta^\\star = - y \\cdot \\epsilon \\cdot \\mathrm{sign}(w),\n",
        "\\end{equation}"
      ],
      "metadata": {
        "id": "Ui7y6ltnztVX"
      }
    },
    {
      "cell_type": "code",
      "source": [
        "w = logreg.coef_\n",
        "w.tolist\n",
        "delta_minus = 0.2*np.sign(w)\n",
        "\n",
        "#изобразим нашу атаку_1\n",
        "\n",
        "image_delta_minus = delta_minus.reshape(28, 28)\n",
        "fig, axs = plt.subplots(1, 1, figsize=(7, 3))\n",
        "axs.imshow(image_delta_minus)\n",
        "\n",
        "print(delta_minus.size)"
      ],
      "metadata": {
        "colab": {
          "base_uri": "https://localhost:8080/",
          "height": 329
        },
        "id": "ZKH5byuUz8pH",
        "outputId": "005cab67-e72f-41ad-f0b7-fbd0aac6505e"
      },
      "execution_count": 9,
      "outputs": [
        {
          "output_type": "stream",
          "name": "stdout",
          "text": [
            "(1, 784)\n",
            "784\n"
          ]
        },
        {
          "output_type": "display_data",
          "data": {
            "text/plain": [
              "<Figure size 700x300 with 1 Axes>"
            ],
            "image/png": "[encoded data removed]"
          },
          "metadata": {}
        }
      ]
    },
    {
      "cell_type": "code",
      "source": [
        "delta_plus = -0.2*np.sign(w)\n",
        "\n",
        "#изобразим нашу атаку_2\n",
        "\n",
        "image_delta_plus = delta_plus.reshape(28, 28)\n",
        "fig, axs = plt.subplots(1, 1, figsize=(7, 3))\n",
        "axs.imshow(image_delta_plus)"
      ],
      "metadata": {
        "colab": {
          "base_uri": "https://localhost:8080/",
          "height": 311
        },
        "id": "YhpYYADX0Gux",
        "outputId": "431ce62b-df83-44b9-cb38-739c1186b717"
      },
      "execution_count": 10,
      "outputs": [
        {
          "output_type": "execute_result",
          "data": {
            "text/plain": [
              "<matplotlib.image.AxesImage at 0x7e4a65cc6b00>"
            ]
          },
          "metadata": {},
          "execution_count": 10
        },
        {
          "output_type": "display_data",
          "data": {
            "text/plain": [
              "<Figure size 700x300 with 1 Axes>"
            ],
            "image/png": "[encoded data removed]"
          },
          "metadata": {}
        }
      ]
    },
    {
      "cell_type": "markdown",
      "source": [
        "Нормализуем тестовую выборку и применим атаку к каждому изображению"
      ],
      "metadata": {
        "id": "VCgbCx9tC13x"
      }
    },
    {
      "cell_type": "code",
      "source": [
        "tran = MinMaxScaler()\n",
        "tran.fit(X_test)\n",
        "X_test_normal = tran.transform(X_test)\n",
        "print(X_test_normal.shape)\n",
        "\n",
        "#Проатакуем\n",
        "X_test_attack_1 = np.atleast_2d(delta_minus).repeat(repeats=2956, axis=0)\n",
        "X_test_attack_1 = X_test_normal + X_test_attack_1\n",
        "\n",
        "n = 5\n",
        "\n",
        "fig, axs = plt.subplots(1, n, figsize=(8, 4))\n",
        "\n",
        "for ax, image, label in zip(axs, X_test_attack_1[:n], y_test[:n]):\n",
        "\n",
        "  image_reshaped = image.reshape(28, 28)\n",
        "\n",
        "  ax.imshow(image_reshaped)\n",
        "  ax.set_title(label)\n",
        "  ax.axis(\"off\")"
      ],
      "metadata": {
        "colab": {
          "base_uri": "https://localhost:8080/",
          "height": 184
        },
        "id": "r3kHpLuM0JT-",
        "outputId": "48a477f6-df62-4ede-f0aa-68319c4e8541"
      },
      "execution_count": 11,
      "outputs": [
        {
          "output_type": "stream",
          "name": "stdout",
          "text": [
            "(2956, 784)\n"
          ]
        },
        {
          "output_type": "display_data",
          "data": {
            "text/plain": [
              "<Figure size 800x400 with 5 Axes>"
            ],
            "image/png": "[encoded data removed]"
          },
          "metadata": {}
        }
      ]
    },
    {
      "cell_type": "markdown",
      "source": [
        "Посчитаем точность незащищенной модели на проатакованных тестовых изображениях"
      ],
      "metadata": {
        "id": "QAmALt5YDRH3"
      }
    },
    {
      "cell_type": "code",
      "source": [
        "y_pred_attack_1 = logreg.predict(X_test_attack_1)\n",
        "print(f'Accuracy of logistic regression classifier on test set: {accuracy_score(y_pred_attack_1, y_test)}')"
      ],
      "metadata": {
        "colab": {
          "base_uri": "https://localhost:8080/"
        },
        "id": "r6fSkWBX0Ma5",
        "outputId": "dc0bc490-072b-4585-94b8-d7d9ebcaa54e"
      },
      "execution_count": 12,
      "outputs": [
        {
          "output_type": "stream",
          "name": "stdout",
          "text": [
            "Accuracy of logistic regression classifier on test set: 0.6874154262516915\n"
          ]
        }
      ]
    },
    {
      "cell_type": "markdown",
      "source": [
        "Атака другого класса"
      ],
      "metadata": {
        "id": "2rk_5y5hDeJE"
      }
    },
    {
      "cell_type": "code",
      "source": [
        "#Проатакуем\n",
        "X_test_attack_2 = np.atleast_2d(delta_plus).repeat(repeats=2956, axis=0)\n",
        "#np.repeat(delta_minus, repeats=X_test_normal.shape, axis=0)\n",
        "X_test_attack_2 = X_test_normal + X_test_attack_2\n",
        "\n",
        "n = 5\n",
        "\n",
        "fig, axs = plt.subplots(1, n, figsize=(8, 4))\n",
        "\n",
        "for ax, image, label in zip(axs, X_test_attack_2[:n], y_test[:n]):\n",
        "\n",
        "  # Переводим картинку из вектора длины 784 в матрицу 28 x 28\n",
        "  image_reshaped = image.reshape(28, 28)\n",
        "\n",
        "  ax.imshow(image_reshaped)\n",
        "  ax.set_title(label)\n",
        "  ax.axis(\"off\")"
      ],
      "metadata": {
        "colab": {
          "base_uri": "https://localhost:8080/",
          "height": 166
        },
        "id": "9m0zIJWN0O7G",
        "outputId": "ba0888e8-b0ea-4ea3-e3ab-fd56c6175fd4"
      },
      "execution_count": 13,
      "outputs": [
        {
          "output_type": "display_data",
          "data": {
            "text/plain": [
              "<Figure size 800x400 with 5 Axes>"
            ],
            "image/png": "[encoded data removed]"
          },
          "metadata": {}
        }
      ]
    },
    {
      "cell_type": "markdown",
      "source": [
        "Также посчитаем точность незащищенной модели на проатакованных тестовых изображениях"
      ],
      "metadata": {
        "id": "zrZhMDIFDpSn"
      }
    },
    {
      "cell_type": "code",
      "source": [
        "y_pred_attack_2 = logreg.predict(X_test_attack_2)\n",
        "print(f'Accuracy of logistic regression classifier on test set: {accuracy_score(y_pred_attack_2, y_test)}')"
      ],
      "metadata": {
        "colab": {
          "base_uri": "https://localhost:8080/"
        },
        "id": "u0NEx0LH0RYB",
        "outputId": "819d409c-a6dd-4f75-c730-5a735d15d274"
      },
      "execution_count": 14,
      "outputs": [
        {
          "output_type": "stream",
          "name": "stdout",
          "text": [
            "Accuracy of logistic regression classifier on test set: 0.4736129905277402\n"
          ]
        }
      ]
    },
    {
      "cell_type": "markdown",
      "source": [
        "Напишем защиту модели с функцией потерь\n",
        "\n",
        "\\begin{equation}\n",
        "\\DeclareMathOperator*{\\minimize}{minimize}\n",
        "\\minimize_{w,b} \\frac{1}{D}\\sum_{(x,y) \\in D} L \\left(y \\cdot (w^Tx + b) - \\epsilon \\|w\\|_1 \\right ).\n",
        "\\end{equation}\n",
        "\n",
        "Тренировка Robust Classifier"
      ],
      "metadata": {
        "id": "OgL4HWt00VUZ"
      }
    },
    {
      "cell_type": "code",
      "source": [
        "def L_derivative(z):\n",
        "  return -np.exp(-z)/(1 + np.exp(-z))\n",
        "\n",
        "def Loss(X, y, e_1, e_2):\n",
        "  Los = 0\n",
        "  for i in range(len(X[:1])):\n",
        "    Los = Los + np.log(1+np.exp(- y[i]*(X[i] @ (e_1).T + e_2)))\n",
        "  return Los"
      ],
      "metadata": {
        "id": "k19_Sssl0aSK"
      },
      "execution_count": 15,
      "outputs": []
    },
    {
      "cell_type": "code",
      "source": [
        "from sklearn.base import BaseEstimator\n",
        "\n",
        "class RobustLogisticRegression(BaseEstimator):\n",
        "\n",
        "    def __init__(self):\n",
        "        super(RobustLogisticRegression, self).__init__()#Для инициализации унаследованных свойств вызываем метод инициализации родительского класса\n",
        "\n",
        "        self.w = np.random.randn(784)*0.01 #Веса модели (обучаемые параметры)\n",
        "        self.b = np.random.randn() #Сдвиг линейной модели (обучаемые параметры)\n",
        "        self.report_every = 40\n",
        "\n",
        "\n",
        "    def fit(self, X, y, learning_rate=0.05, epochs=600):\n",
        "        \"\"\"Метод для тренировки модели по тренировочным данным X и y\"\"\"\n",
        "\n",
        "        for epoch in range(epochs):\n",
        "\n",
        "          #Найдём градиент Лосс функции по вектору w весов модели\n",
        "          L_w = np.zeros(784)\n",
        "          L_b = 0\n",
        "\n",
        "          for i in range(len(X[:1])):\n",
        "            L_w = L_w + L_derivative(y[i]*(X[i] @ (self.w).T + self.b) - 0.2*np.linalg.norm(self.w, ord=1))*y[i]*self.w\n",
        "            L_b = L_b + L_derivative(y[i]*(X[i] @ (self.w).T + self.b) - 0.2*np.linalg.norm(self.w, ord=1))*y[i]\n",
        "\n",
        "          #Подсчёт новых значений параметров (шаг грдиентного спуска)\n",
        "          self.w = self.w - learning_rate*L_w\n",
        "          self.b = self.b - learning_rate*L_b\n",
        "\n",
        "          L = Loss(X, y, self.w, self.b)\n",
        "          #print(L)\n",
        "\n",
        "          if epoch % self.report_every == 0:\n",
        "            L = Loss(X, y, self.w, self.b)\n",
        "            print(L)\n",
        "\n",
        "    def predict(self, X):\n",
        "        \"\"\"Метод для предсказания классов для данных X\"\"\"\n",
        "        y_pred = X @ (self.w).T + self.b\n",
        "        for i in range(len(y_pred)):\n",
        "          if (y_pred[i] >= 0):\n",
        "            y_pred[i] = 1\n",
        "          else:\n",
        "            y_pred[i] = -1\n",
        "        return y_pred"
      ],
      "metadata": {
        "id": "Fi91FIzH0o_H"
      },
      "execution_count": 175,
      "outputs": []
    },
    {
      "cell_type": "code",
      "source": [
        "roblogreg = RobustLogisticRegression()\n",
        "roblogreg.fit(X_train, y_train)"
      ],
      "metadata": {
        "colab": {
          "base_uri": "https://localhost:8080/"
        },
        "id": "3X0ANGJs0vjl",
        "outputId": "d368eddd-1d78-4474-c0b6-b33b67f78e70"
      },
      "execution_count": 176,
      "outputs": [
        {
          "output_type": "stream",
          "name": "stdout",
          "text": [
            "47.052365415279574\n",
            "4.085011068949953\n",
            "0.2593046924056247\n",
            "0.11858526201101706\n",
            "0.0790390531893793\n",
            "0.06020764525344947\n",
            "0.0490813098073812\n",
            "0.041681267674684455\n",
            "0.03637645542956538\n",
            "0.03237166652629343\n",
            "0.029231613633778557\n",
            "0.026697353106521084\n",
            "0.024604857771018195\n",
            "0.022844988370822977\n",
            "0.02134219583936222\n"
          ]
        }
      ]
    },
    {
      "cell_type": "markdown",
      "source": [
        "Точность робастной модели"
      ],
      "metadata": {
        "id": "YUstKF4K-aGb"
      }
    },
    {
      "cell_type": "code",
      "source": [
        "y_pred = roblogreg.predict(X_test)\n",
        "print(f'Accuracy of Robust Logistic Regression classifier on test set: {accuracy_score(y_pred, y_test)}')"
      ],
      "metadata": {
        "colab": {
          "base_uri": "https://localhost:8080/"
        },
        "id": "HXBqz2EB7dSz",
        "outputId": "965b67ec-e36c-41a5-be9b-42d999dedce6"
      },
      "execution_count": 177,
      "outputs": [
        {
          "output_type": "stream",
          "name": "stdout",
          "text": [
            "Accuracy of Robust Logistic Regression classifier on test set: 0.4621109607577808\n"
          ]
        }
      ]
    },
    {
      "cell_type": "markdown",
      "source": [
        "Проатакуем робастную модель"
      ],
      "metadata": {
        "id": "rwLaO7Fi-fOi"
      }
    },
    {
      "cell_type": "code",
      "source": [
        "w = logreg.coef_\n",
        "w.tolist\n",
        "\n",
        "delta_minus = 0.2*np.sign(w)\n",
        "delta_plus = -0.2*np.sign(w)\n",
        "\n",
        "tran = MinMaxScaler()\n",
        "tran.fit(X_test)\n",
        "X_test_normal = tran.transform(X_test)\n",
        "\n",
        "#Проатакуем\n",
        "X_test_attack_1 = np.atleast_2d(delta_minus).repeat(repeats=2956, axis=0)\n",
        "X_test_attack_1 = X_test_normal + X_test_attack_1"
      ],
      "metadata": {
        "id": "9jBM7P9O95Cb"
      },
      "execution_count": 178,
      "outputs": []
    },
    {
      "cell_type": "markdown",
      "source": [
        "Посчитаем точность робастной модели"
      ],
      "metadata": {
        "id": "RmHjtWJMFL-7"
      }
    },
    {
      "cell_type": "code",
      "source": [
        "y_pred_attack_1 = roblogreg.predict(X_test_attack_1)\n",
        "print(f'Accuracy of test_attack_1 Robust: {accuracy_score(y_pred_attack_1, y_test)}')"
      ],
      "metadata": {
        "colab": {
          "base_uri": "https://localhost:8080/"
        },
        "id": "ZOSmq-EF_Rku",
        "outputId": "3bd9a0ec-e336-42cd-e0bb-5aea30643ee8"
      },
      "execution_count": 179,
      "outputs": [
        {
          "output_type": "stream",
          "name": "stdout",
          "text": [
            "(2956, 784)\n",
            "Accuracy of test_attack_1 Robust: 0.4621109607577808\n"
          ]
        }
      ]
    },
    {
      "cell_type": "markdown",
      "source": [
        "Точность как была плохая так и осталась :(\n",
        "\n"
      ],
      "metadata": {
        "id": "LRRWGuSgFQCc"
      }
    },
    {
      "cell_type": "code",
      "source": [
        "#Проатакуем\n",
        "X_test_attack_2 = np.atleast_2d(delta_plus).repeat(repeats=2956, axis=0)\n",
        "X_test_attack_2 = X_test_normal + X_test_attack_2\n",
        "\n",
        "y_pred_attack_1 = roblogreg.predict(X_test_attack_2)\n",
        "print(f'Accuracy of test_attack_1 Robust: {accuracy_score(y_pred_attack_2, y_test)}')"
      ],
      "metadata": {
        "colab": {
          "base_uri": "https://localhost:8080/"
        },
        "id": "Ud_Zn1-vArNb",
        "outputId": "296b95bc-b2a6-4427-e2f6-dc8e74416853"
      },
      "execution_count": 180,
      "outputs": [
        {
          "output_type": "stream",
          "name": "stdout",
          "text": [
            "Accuracy of test_attack_1 Robust: 0.4621109607577808\n"
          ]
        }
      ]
    }
  ]
}